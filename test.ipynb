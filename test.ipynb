{
 "cells": [
  {
   "cell_type": "code",
   "execution_count": 2,
   "id": "72bc98db",
   "metadata": {},
   "outputs": [
    {
     "name": "stdout",
     "output_type": "stream",
     "text": [
      "Collecting Levenshtein\n",
      "  Downloading Levenshtein-0.21.1-cp39-cp39-win_amd64.whl (101 kB)\n",
      "     -------------------------------------- 101.0/101.0 kB 1.4 MB/s eta 0:00:00\n",
      "Collecting rapidfuzz<4.0.0,>=2.3.0\n",
      "  Downloading rapidfuzz-3.1.2-cp39-cp39-win_amd64.whl (1.8 MB)\n",
      "     ---------------------------------------- 1.8/1.8 MB 1.8 MB/s eta 0:00:00\n",
      "Installing collected packages: rapidfuzz, Levenshtein\n",
      "Successfully installed Levenshtein-0.21.1 rapidfuzz-3.1.2\n",
      "Note: you may need to restart the kernel to use updated packages.\n"
     ]
    }
   ],
   "source": [
    "pip install Levenshtein"
   ]
  },
  {
   "cell_type": "code",
   "execution_count": 193,
   "id": "c7d60e58",
   "metadata": {},
   "outputs": [
    {
     "name": "stdout",
     "output_type": "stream",
     "text": [
      "tiêu hủy\n",
      "Từ đã được sửa: tiêu hủy\n"
     ]
    }
   ],
   "source": [
    "import pandas as pd\n",
    "from Levenshtein import distance\n",
    "\n",
    "def correct_word(word, csv_file):\n",
    "    df = pd.read_csv(csv_file)\n",
    "    corrections = df['correction'].tolist()\n",
    "    words = text.split()\n",
    "    closest_word = min(corrections, key=lambda x: distance(word, x))\n",
    "    print(closest_word)\n",
    "    return closest_word\n",
    "\n",
    "text = 'tiếu hùy'\n",
    "csv_file = 'dic.csv'\n",
    "corrected_word = correct_word(text, csv_file)\n",
    "print(f'Từ đã được sửa: {corrected_word}')\n"
   ]
  },
  {
   "cell_type": "code",
   "execution_count": 196,
   "id": "2d47ed3f",
   "metadata": {},
   "outputs": [
    {
     "name": "stdout",
     "output_type": "stream",
     "text": [
      "Từ đã được sửa: Tái xuất khẩu\n"
     ]
    }
   ],
   "source": [
    "import pandas as pd\n",
    "from Levenshtein import distance\n",
    "\n",
    "def correct_word(word, csv_file):\n",
    "    df = pd.read_csv(csv_file)\n",
    "    corrections = df['correction'].tolist()  \n",
    "    \n",
    "    closest_word = min(corrections, key=lambda x: distance(word, x))\n",
    "    \n",
    "    if distance(word, closest_word) > len(word) / 2:\n",
    "        closest_word = word \n",
    "        print(closest_word)\n",
    "    return closest_word\n",
    "\n",
    "text = 'Tổi, xuất, khầu'\n",
    "csv_file = 'dic.csv'\n",
    "corrected_word = correct_word(text, csv_file)\n",
    "print(f'Từ đã được sửa: {corrected_word}')\n"
   ]
  },
  {
   "cell_type": "code",
   "execution_count": 197,
   "id": "2eca6acf",
   "metadata": {},
   "outputs": [
    {
     "name": "stdout",
     "output_type": "stream",
     "text": [
      "Từ đã được sửa: BỘ GIÁO DỤC VÀ ĐÀO TẠO\n"
     ]
    }
   ],
   "source": [
    "import pandas as pd\n",
    "from Levenshtein import distance\n",
    "\n",
    "def correct_word(word, csv_file):\n",
    "    df = pd.read_csv(csv_file, encoding='utf-8')  \n",
    "    corrections = df['correction'].tolist()\n",
    "    words = word.split()  \n",
    "\n",
    "    closest_word = min(corrections, key=lambda x: distance(word, x), default=None) \n",
    "    return closest_word\n",
    "\n",
    "text = 'Tổi xuất khầu, BỐ GIÁO DÚC VÀ ĐÁO TẠO, tiếu hùy'\n",
    "csv_file = 'dic.csv'\n",
    "corrected_word = correct_word(text, csv_file)\n",
    "\n",
    "if corrected_word:\n",
    "    print(f'Từ đã được sửa: {corrected_word}')\n",
    "else:\n",
    "    print('Không tìm thấy từ gần nhất để sửa chữa.')\n"
   ]
  },
  {
   "cell_type": "code",
   "execution_count": null,
   "id": "123d6d4d",
   "metadata": {},
   "outputs": [],
   "source": []
  }
 ],
 "metadata": {
  "kernelspec": {
   "display_name": "Python 3 (ipykernel)",
   "language": "python",
   "name": "python3"
  },
  "language_info": {
   "codemirror_mode": {
    "name": "ipython",
    "version": 3
   },
   "file_extension": ".py",
   "mimetype": "text/x-python",
   "name": "python",
   "nbconvert_exporter": "python",
   "pygments_lexer": "ipython3",
   "version": "3.9.13"
  }
 },
 "nbformat": 4,
 "nbformat_minor": 5
}
